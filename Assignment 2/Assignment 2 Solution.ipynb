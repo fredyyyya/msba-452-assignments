{
 "cells": [
  {
   "cell_type": "markdown",
   "id": "eb7dc5f0",
   "metadata": {},
   "source": [
    "# Question 1"
   ]
  },
  {
   "cell_type": "code",
   "execution_count": 1,
   "id": "d55ac787",
   "metadata": {},
   "outputs": [],
   "source": [
    "import numpy as np\n",
    "import matplotlib.pyplot as plt\n",
    "import pandas as pd\n",
    "from statsmodels.graphics.factorplots import interaction_plot\n",
    "from sklearn.model_selection import train_test_split\n",
    "from sklearn.linear_model import LinearRegression, LogisticRegression\n",
    "import statsmodels.formula.api as smf\n",
    "import statsmodels.api as sm\n",
    "from linearmodels import PanelOLS"
   ]
  },
  {
   "cell_type": "code",
   "execution_count": 2,
   "id": "7aabc338",
   "metadata": {
    "scrolled": true
   },
   "outputs": [],
   "source": [
    "data = pd.read_csv('Assignment 2/sales.csv')"
   ]
  },
  {
   "cell_type": "code",
   "execution_count": 3,
   "id": "4c5b6e1b",
   "metadata": {},
   "outputs": [
    {
     "data": {
      "text/plain": [
       "Index(['Unnamed: 0', 'area1_sales', 'area2_sales', 'area3_sales',\n",
       "       'total_sales'],\n",
       "      dtype='object')"
      ]
     },
     "execution_count": 3,
     "metadata": {},
     "output_type": "execute_result"
    }
   ],
   "source": [
    "data.columns"
   ]
  },
  {
   "cell_type": "code",
   "execution_count": 4,
   "id": "85ddc15c",
   "metadata": {
    "scrolled": true
   },
   "outputs": [],
   "source": [
    "data = data.drop(columns = 'Unnamed: 0')"
   ]
  },
  {
   "cell_type": "code",
   "execution_count": 5,
   "id": "cc23ab1c",
   "metadata": {},
   "outputs": [
    {
     "data": {
      "text/html": [
       "<div>\n",
       "<style scoped>\n",
       "    .dataframe tbody tr th:only-of-type {\n",
       "        vertical-align: middle;\n",
       "    }\n",
       "\n",
       "    .dataframe tbody tr th {\n",
       "        vertical-align: top;\n",
       "    }\n",
       "\n",
       "    .dataframe thead th {\n",
       "        text-align: right;\n",
       "    }\n",
       "</style>\n",
       "<table border=\"1\" class=\"dataframe\">\n",
       "  <thead>\n",
       "    <tr style=\"text-align: right;\">\n",
       "      <th></th>\n",
       "      <th>area1_sales</th>\n",
       "      <th>area2_sales</th>\n",
       "      <th>area3_sales</th>\n",
       "      <th>total_sales</th>\n",
       "    </tr>\n",
       "  </thead>\n",
       "  <tbody>\n",
       "    <tr>\n",
       "      <th>0</th>\n",
       "      <td>0.79</td>\n",
       "      <td>0.80</td>\n",
       "      <td>0.02</td>\n",
       "      <td>1.75</td>\n",
       "    </tr>\n",
       "    <tr>\n",
       "      <th>1</th>\n",
       "      <td>0.83</td>\n",
       "      <td>0.08</td>\n",
       "      <td>0.18</td>\n",
       "      <td>1.75</td>\n",
       "    </tr>\n",
       "    <tr>\n",
       "      <th>2</th>\n",
       "      <td>0.85</td>\n",
       "      <td>0.01</td>\n",
       "      <td>0.22</td>\n",
       "      <td>1.75</td>\n",
       "    </tr>\n",
       "    <tr>\n",
       "      <th>3</th>\n",
       "      <td>1.25</td>\n",
       "      <td>0.00</td>\n",
       "      <td>0.03</td>\n",
       "      <td>1.75</td>\n",
       "    </tr>\n",
       "    <tr>\n",
       "      <th>4</th>\n",
       "      <td>0.72</td>\n",
       "      <td>0.04</td>\n",
       "      <td>0.10</td>\n",
       "      <td>1.74</td>\n",
       "    </tr>\n",
       "    <tr>\n",
       "      <th>...</th>\n",
       "      <td>...</td>\n",
       "      <td>...</td>\n",
       "      <td>...</td>\n",
       "      <td>...</td>\n",
       "    </tr>\n",
       "    <tr>\n",
       "      <th>2995</th>\n",
       "      <td>0.20</td>\n",
       "      <td>0.00</td>\n",
       "      <td>0.07</td>\n",
       "      <td>0.49</td>\n",
       "    </tr>\n",
       "    <tr>\n",
       "      <th>2996</th>\n",
       "      <td>0.28</td>\n",
       "      <td>0.00</td>\n",
       "      <td>0.04</td>\n",
       "      <td>0.49</td>\n",
       "    </tr>\n",
       "    <tr>\n",
       "      <th>2997</th>\n",
       "      <td>0.00</td>\n",
       "      <td>0.49</td>\n",
       "      <td>0.00</td>\n",
       "      <td>0.49</td>\n",
       "    </tr>\n",
       "    <tr>\n",
       "      <th>2998</th>\n",
       "      <td>0.07</td>\n",
       "      <td>0.09</td>\n",
       "      <td>0.07</td>\n",
       "      <td>0.49</td>\n",
       "    </tr>\n",
       "    <tr>\n",
       "      <th>2999</th>\n",
       "      <td>0.24</td>\n",
       "      <td>0.00</td>\n",
       "      <td>0.06</td>\n",
       "      <td>0.49</td>\n",
       "    </tr>\n",
       "  </tbody>\n",
       "</table>\n",
       "<p>3000 rows × 4 columns</p>\n",
       "</div>"
      ],
      "text/plain": [
       "      area1_sales  area2_sales  area3_sales  total_sales\n",
       "0            0.79         0.80         0.02         1.75\n",
       "1            0.83         0.08         0.18         1.75\n",
       "2            0.85         0.01         0.22         1.75\n",
       "3            1.25         0.00         0.03         1.75\n",
       "4            0.72         0.04         0.10         1.74\n",
       "...           ...          ...          ...          ...\n",
       "2995         0.20         0.00         0.07         0.49\n",
       "2996         0.28         0.00         0.04         0.49\n",
       "2997         0.00         0.49         0.00         0.49\n",
       "2998         0.07         0.09         0.07         0.49\n",
       "2999         0.24         0.00         0.06         0.49\n",
       "\n",
       "[3000 rows x 4 columns]"
      ]
     },
     "execution_count": 5,
     "metadata": {},
     "output_type": "execute_result"
    }
   ],
   "source": [
    "data"
   ]
  },
  {
   "cell_type": "code",
   "execution_count": 6,
   "id": "cc03f6c6",
   "metadata": {},
   "outputs": [],
   "source": [
    "X=data[['area1_sales','area2_sales','area3_sales']]\n",
    "Y=data['total_sales']\n",
    "X_train,X_test,Y_train,Y_test=train_test_split(X,Y,test_size=0.2,random_state=2)"
   ]
  },
  {
   "cell_type": "code",
   "execution_count": 7,
   "id": "29b2ac7e",
   "metadata": {},
   "outputs": [
    {
     "data": {
      "text/plain": [
       "LinearRegression()"
      ]
     },
     "execution_count": 7,
     "metadata": {},
     "output_type": "execute_result"
    }
   ],
   "source": [
    "lr=LinearRegression()\n",
    "lr.fit(X_train,Y_train)"
   ]
  },
  {
   "cell_type": "code",
   "execution_count": 8,
   "id": "307a2810",
   "metadata": {},
   "outputs": [],
   "source": [
    "Y_pred=lr.predict(X_test)"
   ]
  },
  {
   "cell_type": "code",
   "execution_count": 9,
   "id": "b667d629",
   "metadata": {},
   "outputs": [
    {
     "name": "stdout",
     "output_type": "stream",
     "text": [
      "mae 0.133422537948484\n",
      "mse 0.0358793007243186\n",
      "r2 0.7106047359376564\n"
     ]
    }
   ],
   "source": [
    "from sklearn.metrics import mean_squared_error,mean_absolute_error\n",
    "from sklearn.metrics import r2_score\n",
    "print(\"mae\",mean_absolute_error(Y_test,Y_pred))\n",
    "print(\"mse\",mean_squared_error(Y_test,Y_pred))\n",
    "print(\"r2\",r2_score(Y_test,Y_pred))"
   ]
  },
  {
   "cell_type": "code",
   "execution_count": 10,
   "id": "0350e8f7",
   "metadata": {
    "scrolled": false
   },
   "outputs": [
    {
     "name": "stdout",
     "output_type": "stream",
     "text": [
      "                            OLS Regression Results                            \n",
      "==============================================================================\n",
      "Dep. Variable:            total_sales   R-squared:                       0.702\n",
      "Model:                            OLS   Adj. R-squared:                  0.702\n",
      "Method:                 Least Squares   F-statistic:                     2354.\n",
      "Date:                Thu, 23 Feb 2023   Prob (F-statistic):               0.00\n",
      "Time:                        20:00:59   Log-Likelihood:                 761.25\n",
      "No. Observations:                3000   AIC:                            -1515.\n",
      "Df Residuals:                    2996   BIC:                            -1490.\n",
      "Df Model:                           3                                         \n",
      "Covariance Type:            nonrobust                                         \n",
      "===============================================================================\n",
      "                  coef    std err          t      P>|t|      [0.025      0.975]\n",
      "-------------------------------------------------------------------------------\n",
      "Intercept       0.2601      0.008     30.743      0.000       0.243       0.277\n",
      "area1_sales     0.9148      0.013     72.435      0.000       0.890       0.940\n",
      "area2_sales     0.7489      0.015     49.102      0.000       0.719       0.779\n",
      "area3_sales     1.7136      0.039     44.344      0.000       1.638       1.789\n",
      "==============================================================================\n",
      "Omnibus:                      482.733   Durbin-Watson:                   1.442\n",
      "Prob(Omnibus):                  0.000   Jarque-Bera (JB):             2611.741\n",
      "Skew:                           0.653   Prob(JB):                         0.00\n",
      "Kurtosis:                       7.380   Cond. No.                         12.7\n",
      "==============================================================================\n",
      "\n",
      "Notes:\n",
      "[1] Standard Errors assume that the covariance matrix of the errors is correctly specified.\n"
     ]
    }
   ],
   "source": [
    "model = smf.ols('total_sales ~ area1_sales + area2_sales + area3_sales', data = data)\n",
    "interactions1 = model.fit()\n",
    "print(interactions1.summary())"
   ]
  },
  {
   "cell_type": "code",
   "execution_count": 11,
   "id": "bf8589e5",
   "metadata": {
    "scrolled": false
   },
   "outputs": [
    {
     "name": "stdout",
     "output_type": "stream",
     "text": [
      "                            OLS Regression Results                            \n",
      "==============================================================================\n",
      "Dep. Variable:            total_sales   R-squared:                       0.716\n",
      "Model:                            OLS   Adj. R-squared:                  0.715\n",
      "Method:                 Least Squares   F-statistic:                     1075.\n",
      "Date:                Thu, 23 Feb 2023   Prob (F-statistic):               0.00\n",
      "Time:                        20:01:03   Log-Likelihood:                 830.59\n",
      "No. Observations:                3000   AIC:                            -1645.\n",
      "Df Residuals:                    2992   BIC:                            -1597.\n",
      "Df Model:                           7                                         \n",
      "Covariance Type:            nonrobust                                         \n",
      "=======================================================================================================\n",
      "                                          coef    std err          t      P>|t|      [0.025      0.975]\n",
      "-------------------------------------------------------------------------------------------------------\n",
      "Intercept                               0.3119      0.010     32.077      0.000       0.293       0.331\n",
      "area1_sales                             0.7852      0.018     42.656      0.000       0.749       0.821\n",
      "area2_sales                             0.6518      0.020     33.057      0.000       0.613       0.690\n",
      "area3_sales                             1.2583      0.065     19.447      0.000       1.131       1.385\n",
      "area1_sales:area2_sales                 0.1991      0.091      2.188      0.029       0.021       0.377\n",
      "area2_sales:area3_sales                 0.1994      0.458      0.436      0.663      -0.698       1.097\n",
      "area3_sales:area1_sales                 1.0889      0.144      7.550      0.000       0.806       1.372\n",
      "area1_sales:area2_sales:area3_sales     5.3078      1.461      3.634      0.000       2.444       8.172\n",
      "==============================================================================\n",
      "Omnibus:                      550.091   Durbin-Watson:                   1.453\n",
      "Prob(Omnibus):                  0.000   Jarque-Bera (JB):             2499.463\n",
      "Skew:                           0.815   Prob(JB):                         0.00\n",
      "Kurtosis:                       7.164   Cond. No.                         496.\n",
      "==============================================================================\n",
      "\n",
      "Notes:\n",
      "[1] Standard Errors assume that the covariance matrix of the errors is correctly specified.\n"
     ]
    }
   ],
   "source": [
    "model = smf.ols('total_sales ~ area1_sales + area2_sales + area3_sales + area1_sales*area2_sales + area2_sales*area3_sales + area3_sales*area1_sales + area1_sales*area2_sales*area3_sales', data = data)\n",
    "interactions1 = model.fit()\n",
    "print(interactions1.summary())"
   ]
  },
  {
   "cell_type": "code",
   "execution_count": 12,
   "id": "fa91700b",
   "metadata": {},
   "outputs": [],
   "source": [
    "# Getting rid of area2 and area3 interactions since it is insignificant"
   ]
  },
  {
   "cell_type": "code",
   "execution_count": 13,
   "id": "32f12ac6",
   "metadata": {},
   "outputs": [
    {
     "name": "stdout",
     "output_type": "stream",
     "text": [
      "                            OLS Regression Results                            \n",
      "==============================================================================\n",
      "Dep. Variable:            total_sales   R-squared:                       0.713\n",
      "Model:                            OLS   Adj. R-squared:                  0.713\n",
      "Method:                 Least Squares   F-statistic:                     1489.\n",
      "Date:                Thu, 23 Feb 2023   Prob (F-statistic):               0.00\n",
      "Time:                        20:01:06   Log-Likelihood:                 818.42\n",
      "No. Observations:                3000   AIC:                            -1625.\n",
      "Df Residuals:                    2994   BIC:                            -1589.\n",
      "Df Model:                           5                                         \n",
      "Covariance Type:            nonrobust                                         \n",
      "===========================================================================================\n",
      "                              coef    std err          t      P>|t|      [0.025      0.975]\n",
      "-------------------------------------------------------------------------------------------\n",
      "Intercept                   0.3112      0.010     31.966      0.000       0.292       0.330\n",
      "area1_sales                 0.7785      0.018     42.375      0.000       0.742       0.815\n",
      "area2_sales                 0.6526      0.018     36.460      0.000       0.617       0.688\n",
      "area3_sales                 1.2777      0.063     20.352      0.000       1.155       1.401\n",
      "area1_sales:area2_sales     0.5036      0.063      7.951      0.000       0.379       0.628\n",
      "area3_sales:area1_sales     1.1887      0.140      8.498      0.000       0.914       1.463\n",
      "==============================================================================\n",
      "Omnibus:                      527.961   Durbin-Watson:                   1.456\n",
      "Prob(Omnibus):                  0.000   Jarque-Bera (JB):             2642.082\n",
      "Skew:                           0.751   Prob(JB):                         0.00\n",
      "Kurtosis:                       7.346   Cond. No.                         49.8\n",
      "==============================================================================\n",
      "\n",
      "Notes:\n",
      "[1] Standard Errors assume that the covariance matrix of the errors is correctly specified.\n"
     ]
    }
   ],
   "source": [
    "model1 = smf.ols('total_sales ~ area1_sales + area2_sales + area3_sales + area1_sales*area2_sales + area3_sales*area1_sales', data = data)\n",
    "interactions1 = model1.fit()\n",
    "print(interactions1.summary())"
   ]
  },
  {
   "cell_type": "markdown",
   "id": "bb907cb9",
   "metadata": {},
   "source": [
    "# Question 2"
   ]
  },
  {
   "cell_type": "code",
   "execution_count": 14,
   "id": "26ec2198",
   "metadata": {},
   "outputs": [],
   "source": [
    "logdata = pd.read_csv('Assignment 2/customer.csv')"
   ]
  },
  {
   "cell_type": "code",
   "execution_count": 15,
   "id": "0f8ef372",
   "metadata": {},
   "outputs": [],
   "source": [
    "from sklearn.preprocessing import LabelEncoder\n",
    "le=LabelEncoder()\n",
    "logdata['Gender']=le.fit(logdata['Gender']).transform(logdata['Gender'])"
   ]
  },
  {
   "cell_type": "code",
   "execution_count": 16,
   "id": "93599b8b",
   "metadata": {},
   "outputs": [
    {
     "data": {
      "text/html": [
       "<div>\n",
       "<style scoped>\n",
       "    .dataframe tbody tr th:only-of-type {\n",
       "        vertical-align: middle;\n",
       "    }\n",
       "\n",
       "    .dataframe tbody tr th {\n",
       "        vertical-align: top;\n",
       "    }\n",
       "\n",
       "    .dataframe thead th {\n",
       "        text-align: right;\n",
       "    }\n",
       "</style>\n",
       "<table border=\"1\" class=\"dataframe\">\n",
       "  <thead>\n",
       "    <tr style=\"text-align: right;\">\n",
       "      <th></th>\n",
       "      <th>User ID</th>\n",
       "      <th>Gender</th>\n",
       "      <th>Age</th>\n",
       "      <th>EstimatedSalary</th>\n",
       "      <th>Purchased</th>\n",
       "    </tr>\n",
       "  </thead>\n",
       "  <tbody>\n",
       "    <tr>\n",
       "      <th>0</th>\n",
       "      <td>15624510</td>\n",
       "      <td>1</td>\n",
       "      <td>19</td>\n",
       "      <td>19000</td>\n",
       "      <td>0</td>\n",
       "    </tr>\n",
       "    <tr>\n",
       "      <th>1</th>\n",
       "      <td>15810944</td>\n",
       "      <td>1</td>\n",
       "      <td>35</td>\n",
       "      <td>20000</td>\n",
       "      <td>0</td>\n",
       "    </tr>\n",
       "    <tr>\n",
       "      <th>2</th>\n",
       "      <td>15668575</td>\n",
       "      <td>0</td>\n",
       "      <td>26</td>\n",
       "      <td>43000</td>\n",
       "      <td>0</td>\n",
       "    </tr>\n",
       "    <tr>\n",
       "      <th>3</th>\n",
       "      <td>15603246</td>\n",
       "      <td>0</td>\n",
       "      <td>27</td>\n",
       "      <td>57000</td>\n",
       "      <td>0</td>\n",
       "    </tr>\n",
       "    <tr>\n",
       "      <th>4</th>\n",
       "      <td>15804002</td>\n",
       "      <td>1</td>\n",
       "      <td>19</td>\n",
       "      <td>76000</td>\n",
       "      <td>0</td>\n",
       "    </tr>\n",
       "    <tr>\n",
       "      <th>...</th>\n",
       "      <td>...</td>\n",
       "      <td>...</td>\n",
       "      <td>...</td>\n",
       "      <td>...</td>\n",
       "      <td>...</td>\n",
       "    </tr>\n",
       "    <tr>\n",
       "      <th>395</th>\n",
       "      <td>15691863</td>\n",
       "      <td>0</td>\n",
       "      <td>46</td>\n",
       "      <td>41000</td>\n",
       "      <td>1</td>\n",
       "    </tr>\n",
       "    <tr>\n",
       "      <th>396</th>\n",
       "      <td>15706071</td>\n",
       "      <td>1</td>\n",
       "      <td>51</td>\n",
       "      <td>23000</td>\n",
       "      <td>1</td>\n",
       "    </tr>\n",
       "    <tr>\n",
       "      <th>397</th>\n",
       "      <td>15654296</td>\n",
       "      <td>0</td>\n",
       "      <td>50</td>\n",
       "      <td>20000</td>\n",
       "      <td>1</td>\n",
       "    </tr>\n",
       "    <tr>\n",
       "      <th>398</th>\n",
       "      <td>15755018</td>\n",
       "      <td>1</td>\n",
       "      <td>36</td>\n",
       "      <td>33000</td>\n",
       "      <td>0</td>\n",
       "    </tr>\n",
       "    <tr>\n",
       "      <th>399</th>\n",
       "      <td>15594041</td>\n",
       "      <td>0</td>\n",
       "      <td>49</td>\n",
       "      <td>36000</td>\n",
       "      <td>1</td>\n",
       "    </tr>\n",
       "  </tbody>\n",
       "</table>\n",
       "<p>400 rows × 5 columns</p>\n",
       "</div>"
      ],
      "text/plain": [
       "      User ID  Gender  Age  EstimatedSalary  Purchased\n",
       "0    15624510       1   19            19000          0\n",
       "1    15810944       1   35            20000          0\n",
       "2    15668575       0   26            43000          0\n",
       "3    15603246       0   27            57000          0\n",
       "4    15804002       1   19            76000          0\n",
       "..        ...     ...  ...              ...        ...\n",
       "395  15691863       0   46            41000          1\n",
       "396  15706071       1   51            23000          1\n",
       "397  15654296       0   50            20000          1\n",
       "398  15755018       1   36            33000          0\n",
       "399  15594041       0   49            36000          1\n",
       "\n",
       "[400 rows x 5 columns]"
      ]
     },
     "execution_count": 16,
     "metadata": {},
     "output_type": "execute_result"
    }
   ],
   "source": [
    "logdata"
   ]
  },
  {
   "cell_type": "code",
   "execution_count": 17,
   "id": "8c379a4f",
   "metadata": {},
   "outputs": [],
   "source": [
    "from sklearn.linear_model import LogisticRegression"
   ]
  },
  {
   "cell_type": "code",
   "execution_count": 18,
   "id": "b3bd8b87",
   "metadata": {},
   "outputs": [],
   "source": [
    "X,Y = logdata[['Age', 'Gender', 'EstimatedSalary']], logdata['Purchased']"
   ]
  },
  {
   "cell_type": "code",
   "execution_count": 19,
   "id": "1f54ba0c",
   "metadata": {},
   "outputs": [],
   "source": [
    "X_train,X_test,Y_train,Y_test=train_test_split(X,Y,test_size=0.2,random_state=4)"
   ]
  },
  {
   "cell_type": "code",
   "execution_count": 20,
   "id": "e796ea89",
   "metadata": {},
   "outputs": [],
   "source": [
    "model = LogisticRegression()\n",
    "model.fit(X_train, Y_train.values.ravel())\n",
    "Y_predicted = model.predict(X_test)"
   ]
  },
  {
   "cell_type": "code",
   "execution_count": 21,
   "id": "98c6ac47",
   "metadata": {
    "scrolled": true
   },
   "outputs": [
    {
     "name": "stdout",
     "output_type": "stream",
     "text": [
      "              precision    recall  f1-score   support\n",
      "\n",
      "           0       0.74      1.00      0.85        59\n",
      "           1       0.00      0.00      0.00        21\n",
      "\n",
      "    accuracy                           0.74        80\n",
      "   macro avg       0.37      0.50      0.42        80\n",
      "weighted avg       0.54      0.74      0.63        80\n",
      "\n"
     ]
    },
    {
     "name": "stderr",
     "output_type": "stream",
     "text": [
      "/opt/homebrew/lib/python3.9/site-packages/sklearn/metrics/_classification.py:1308: UndefinedMetricWarning: Precision and F-score are ill-defined and being set to 0.0 in labels with no predicted samples. Use `zero_division` parameter to control this behavior.\n",
      "  _warn_prf(average, modifier, msg_start, len(result))\n",
      "/opt/homebrew/lib/python3.9/site-packages/sklearn/metrics/_classification.py:1308: UndefinedMetricWarning: Precision and F-score are ill-defined and being set to 0.0 in labels with no predicted samples. Use `zero_division` parameter to control this behavior.\n",
      "  _warn_prf(average, modifier, msg_start, len(result))\n",
      "/opt/homebrew/lib/python3.9/site-packages/sklearn/metrics/_classification.py:1308: UndefinedMetricWarning: Precision and F-score are ill-defined and being set to 0.0 in labels with no predicted samples. Use `zero_division` parameter to control this behavior.\n",
      "  _warn_prf(average, modifier, msg_start, len(result))\n"
     ]
    },
    {
     "data": {
      "text/plain": [
       "array([[59,  0],\n",
       "       [21,  0]])"
      ]
     },
     "execution_count": 21,
     "metadata": {},
     "output_type": "execute_result"
    }
   ],
   "source": [
    "from sklearn.metrics import confusion_matrix, classification_report\n",
    "\n",
    "print(classification_report(Y_test, Y_predicted))\n",
    "confusion_matrix(Y_test, Y_predicted)"
   ]
  },
  {
   "cell_type": "code",
   "execution_count": 22,
   "id": "8a93ca3a",
   "metadata": {
    "scrolled": true
   },
   "outputs": [
    {
     "name": "stdout",
     "output_type": "stream",
     "text": [
      "accuracy =  73.75 %\n"
     ]
    }
   ],
   "source": [
    "accuracy = model.score(X_test, Y_test)\n",
    "print(\"accuracy = \", accuracy * 100, \"%\")"
   ]
  },
  {
   "cell_type": "code",
   "execution_count": 23,
   "id": "f3d3ef2e",
   "metadata": {},
   "outputs": [],
   "source": [
    "X,Y = logdata[['Age','Gender','EstimatedSalary']], logdata['Purchased']"
   ]
  },
  {
   "cell_type": "code",
   "execution_count": 24,
   "id": "1ca6bf00",
   "metadata": {
    "scrolled": true
   },
   "outputs": [
    {
     "name": "stdout",
     "output_type": "stream",
     "text": [
      "              precision    recall  f1-score   support\n",
      "\n",
      "           0       0.95      0.92      0.93        59\n",
      "           1       0.78      0.86      0.82        21\n",
      "\n",
      "    accuracy                           0.90        80\n",
      "   macro avg       0.86      0.89      0.87        80\n",
      "weighted avg       0.90      0.90      0.90        80\n",
      "\n",
      "accuracy =  90.0 %\n"
     ]
    },
    {
     "name": "stderr",
     "output_type": "stream",
     "text": [
      "/opt/homebrew/lib/python3.9/site-packages/scipy/optimize/_linesearch.py:457: LineSearchWarning: The line search algorithm did not converge\n",
      "  warn('The line search algorithm did not converge', LineSearchWarning)\n",
      "/opt/homebrew/lib/python3.9/site-packages/scipy/optimize/_linesearch.py:306: LineSearchWarning: The line search algorithm did not converge\n",
      "  warn('The line search algorithm did not converge', LineSearchWarning)\n",
      "/opt/homebrew/lib/python3.9/site-packages/scipy/optimize/_linesearch.py:457: LineSearchWarning: The line search algorithm did not converge\n",
      "  warn('The line search algorithm did not converge', LineSearchWarning)\n",
      "/opt/homebrew/lib/python3.9/site-packages/scipy/optimize/_linesearch.py:306: LineSearchWarning: The line search algorithm did not converge\n",
      "  warn('The line search algorithm did not converge', LineSearchWarning)\n",
      "/opt/homebrew/lib/python3.9/site-packages/scipy/optimize/_linesearch.py:457: LineSearchWarning: The line search algorithm did not converge\n",
      "  warn('The line search algorithm did not converge', LineSearchWarning)\n",
      "/opt/homebrew/lib/python3.9/site-packages/scipy/optimize/_linesearch.py:306: LineSearchWarning: The line search algorithm did not converge\n",
      "  warn('The line search algorithm did not converge', LineSearchWarning)\n",
      "/opt/homebrew/lib/python3.9/site-packages/scipy/optimize/_linesearch.py:457: LineSearchWarning: The line search algorithm did not converge\n",
      "  warn('The line search algorithm did not converge', LineSearchWarning)\n",
      "/opt/homebrew/lib/python3.9/site-packages/scipy/optimize/_linesearch.py:306: LineSearchWarning: The line search algorithm did not converge\n",
      "  warn('The line search algorithm did not converge', LineSearchWarning)\n",
      "/opt/homebrew/lib/python3.9/site-packages/scipy/optimize/_linesearch.py:457: LineSearchWarning: The line search algorithm did not converge\n",
      "  warn('The line search algorithm did not converge', LineSearchWarning)\n",
      "/opt/homebrew/lib/python3.9/site-packages/scipy/optimize/_linesearch.py:306: LineSearchWarning: The line search algorithm did not converge\n",
      "  warn('The line search algorithm did not converge', LineSearchWarning)\n",
      "/opt/homebrew/lib/python3.9/site-packages/scipy/optimize/_linesearch.py:457: LineSearchWarning: The line search algorithm did not converge\n",
      "  warn('The line search algorithm did not converge', LineSearchWarning)\n",
      "/opt/homebrew/lib/python3.9/site-packages/scipy/optimize/_linesearch.py:306: LineSearchWarning: The line search algorithm did not converge\n",
      "  warn('The line search algorithm did not converge', LineSearchWarning)\n",
      "/opt/homebrew/lib/python3.9/site-packages/scipy/optimize/_linesearch.py:457: LineSearchWarning: The line search algorithm did not converge\n",
      "  warn('The line search algorithm did not converge', LineSearchWarning)\n",
      "/opt/homebrew/lib/python3.9/site-packages/scipy/optimize/_linesearch.py:306: LineSearchWarning: The line search algorithm did not converge\n",
      "  warn('The line search algorithm did not converge', LineSearchWarning)\n",
      "/opt/homebrew/lib/python3.9/site-packages/scipy/optimize/_linesearch.py:457: LineSearchWarning: The line search algorithm did not converge\n",
      "  warn('The line search algorithm did not converge', LineSearchWarning)\n",
      "/opt/homebrew/lib/python3.9/site-packages/scipy/optimize/_linesearch.py:306: LineSearchWarning: The line search algorithm did not converge\n",
      "  warn('The line search algorithm did not converge', LineSearchWarning)\n",
      "/opt/homebrew/lib/python3.9/site-packages/scipy/optimize/_linesearch.py:457: LineSearchWarning: The line search algorithm did not converge\n",
      "  warn('The line search algorithm did not converge', LineSearchWarning)\n",
      "/opt/homebrew/lib/python3.9/site-packages/scipy/optimize/_linesearch.py:306: LineSearchWarning: The line search algorithm did not converge\n",
      "  warn('The line search algorithm did not converge', LineSearchWarning)\n",
      "/opt/homebrew/lib/python3.9/site-packages/scipy/optimize/_linesearch.py:457: LineSearchWarning: The line search algorithm did not converge\n",
      "  warn('The line search algorithm did not converge', LineSearchWarning)\n",
      "/opt/homebrew/lib/python3.9/site-packages/scipy/optimize/_linesearch.py:306: LineSearchWarning: The line search algorithm did not converge\n",
      "  warn('The line search algorithm did not converge', LineSearchWarning)\n",
      "/opt/homebrew/lib/python3.9/site-packages/scipy/optimize/_linesearch.py:457: LineSearchWarning: The line search algorithm did not converge\n",
      "  warn('The line search algorithm did not converge', LineSearchWarning)\n",
      "/opt/homebrew/lib/python3.9/site-packages/scipy/optimize/_linesearch.py:306: LineSearchWarning: The line search algorithm did not converge\n",
      "  warn('The line search algorithm did not converge', LineSearchWarning)\n",
      "/opt/homebrew/lib/python3.9/site-packages/scipy/optimize/_linesearch.py:457: LineSearchWarning: The line search algorithm did not converge\n",
      "  warn('The line search algorithm did not converge', LineSearchWarning)\n",
      "/opt/homebrew/lib/python3.9/site-packages/scipy/optimize/_linesearch.py:306: LineSearchWarning: The line search algorithm did not converge\n",
      "  warn('The line search algorithm did not converge', LineSearchWarning)\n",
      "/opt/homebrew/lib/python3.9/site-packages/scipy/optimize/_linesearch.py:457: LineSearchWarning: The line search algorithm did not converge\n",
      "  warn('The line search algorithm did not converge', LineSearchWarning)\n",
      "/opt/homebrew/lib/python3.9/site-packages/scipy/optimize/_linesearch.py:306: LineSearchWarning: The line search algorithm did not converge\n",
      "  warn('The line search algorithm did not converge', LineSearchWarning)\n"
     ]
    }
   ],
   "source": [
    "X_train,X_test,Y_train,Y_test=train_test_split(X,Y,test_size=0.2,random_state=4)\n",
    "model = LogisticRegression(solver = 'newton-cg')\n",
    "model.fit(X_train, Y_train.values.ravel())\n",
    "Y_predicted = model.predict(X_test)\n",
    "print(classification_report(Y_test, Y_predicted))\n",
    "confusion_matrix(Y_test, Y_predicted)\n",
    "accuracy = model.score(X_test, Y_test)\n",
    "print(\"accuracy = \", accuracy * 100, \"%\")"
   ]
  },
  {
   "cell_type": "code",
   "execution_count": 25,
   "id": "ca371ec5",
   "metadata": {},
   "outputs": [],
   "source": [
    "formula = 'Purchased ~ Gender+Age+EstimatedSalary'"
   ]
  },
  {
   "cell_type": "code",
   "execution_count": 26,
   "id": "bb159764",
   "metadata": {},
   "outputs": [
    {
     "name": "stdout",
     "output_type": "stream",
     "text": [
      "                 Generalized Linear Model Regression Results                  \n",
      "==============================================================================\n",
      "Dep. Variable:              Purchased   No. Observations:                  400\n",
      "Model:                            GLM   Df Residuals:                      396\n",
      "Model Family:                Binomial   Df Model:                            3\n",
      "Link Function:                  Logit   Scale:                          1.0000\n",
      "Method:                          IRLS   Log-Likelihood:                -137.92\n",
      "Date:                Thu, 23 Feb 2023   Deviance:                       275.84\n",
      "Time:                        20:01:34   Pearson chi2:                     459.\n",
      "No. Iterations:                     6   Pseudo R-squ. (CS):             0.4590\n",
      "Covariance Type:            nonrobust                                         \n",
      "===================================================================================\n",
      "                      coef    std err          z      P>|z|      [0.025      0.975]\n",
      "-----------------------------------------------------------------------------------\n",
      "Intercept         -12.7836      1.359     -9.405      0.000     -15.448     -10.120\n",
      "Gender              0.3338      0.305      1.094      0.274      -0.264       0.932\n",
      "Age                 0.2370      0.026      8.984      0.000       0.185       0.289\n",
      "EstimatedSalary  3.644e-05   5.47e-06      6.659      0.000    2.57e-05    4.72e-05\n",
      "===================================================================================\n"
     ]
    }
   ],
   "source": [
    "model_full = smf.glm(formula = formula, data = logdata, family = sm.families.Binomial())\n",
    "model_full_result = model_full.fit()\n",
    "print(model_full_result.summary())"
   ]
  },
  {
   "cell_type": "code",
   "execution_count": 27,
   "id": "70637030",
   "metadata": {},
   "outputs": [],
   "source": [
    "formula = 'Purchased ~ Age+EstimatedSalary'"
   ]
  },
  {
   "cell_type": "code",
   "execution_count": 28,
   "id": "20c6b47a",
   "metadata": {},
   "outputs": [
    {
     "name": "stdout",
     "output_type": "stream",
     "text": [
      "                 Generalized Linear Model Regression Results                  \n",
      "==============================================================================\n",
      "Dep. Variable:              Purchased   No. Observations:                  400\n",
      "Model:                            GLM   Df Residuals:                      397\n",
      "Model Family:                Binomial   Df Model:                            2\n",
      "Link Function:                  Logit   Scale:                          1.0000\n",
      "Method:                          IRLS   Log-Likelihood:                -138.53\n",
      "Date:                Thu, 23 Feb 2023   Deviance:                       277.05\n",
      "Time:                        20:01:36   Pearson chi2:                     467.\n",
      "No. Iterations:                     6   Pseudo R-squ. (CS):             0.4574\n",
      "Covariance Type:            nonrobust                                         \n",
      "===================================================================================\n",
      "                      coef    std err          z      P>|z|      [0.025      0.975]\n",
      "-----------------------------------------------------------------------------------\n",
      "Intercept         -12.4340      1.300     -9.566      0.000     -14.982      -9.886\n",
      "Age                 0.2335      0.026      9.013      0.000       0.183       0.284\n",
      "EstimatedSalary   3.59e-05   5.43e-06      6.613      0.000    2.53e-05    4.65e-05\n",
      "===================================================================================\n"
     ]
    }
   ],
   "source": [
    "model = smf.glm(formula = formula, data = logdata, family = sm.families.Binomial())\n",
    "model_result = model.fit()\n",
    "print(model_result.summary())"
   ]
  },
  {
   "cell_type": "code",
   "execution_count": 29,
   "id": "2800f5cf",
   "metadata": {},
   "outputs": [],
   "source": [
    "formula = 'Purchased ~ Gender+EstimatedSalary'"
   ]
  },
  {
   "cell_type": "code",
   "execution_count": 30,
   "id": "523f8c96",
   "metadata": {},
   "outputs": [
    {
     "name": "stdout",
     "output_type": "stream",
     "text": [
      "                 Generalized Linear Model Regression Results                  \n",
      "==============================================================================\n",
      "Dep. Variable:              Purchased   No. Observations:                  400\n",
      "Model:                            GLM   Df Residuals:                      397\n",
      "Model Family:                Binomial   Df Model:                            2\n",
      "Link Function:                  Logit   Scale:                          1.0000\n",
      "Method:                          IRLS   Log-Likelihood:                -233.78\n",
      "Date:                Thu, 23 Feb 2023   Deviance:                       467.56\n",
      "Time:                        20:01:37   Pearson chi2:                     425.\n",
      "No. Iterations:                     4   Pseudo R-squ. (CS):             0.1263\n",
      "Covariance Type:            nonrobust                                         \n",
      "===================================================================================\n",
      "                      coef    std err          z      P>|z|      [0.025      0.975]\n",
      "-----------------------------------------------------------------------------------\n",
      "Intercept          -2.2720      0.310     -7.324      0.000      -2.880      -1.664\n",
      "Gender             -0.0918      0.224     -0.409      0.683      -0.532       0.348\n",
      "EstimatedSalary   2.38e-05   3.52e-06      6.758      0.000    1.69e-05    3.07e-05\n",
      "===================================================================================\n"
     ]
    }
   ],
   "source": [
    "model = smf.glm(formula = formula, data = logdata, family = sm.families.Binomial())\n",
    "model_result = model.fit()\n",
    "print(model_result.summary())"
   ]
  },
  {
   "cell_type": "code",
   "execution_count": 31,
   "id": "2fb1e06e",
   "metadata": {},
   "outputs": [],
   "source": [
    "formula = 'Purchased ~ Gender+Age'"
   ]
  },
  {
   "cell_type": "code",
   "execution_count": 32,
   "id": "ac198b55",
   "metadata": {},
   "outputs": [
    {
     "name": "stdout",
     "output_type": "stream",
     "text": [
      "                 Generalized Linear Model Regression Results                  \n",
      "==============================================================================\n",
      "Dep. Variable:              Purchased   No. Observations:                  400\n",
      "Model:                            GLM   Df Residuals:                      397\n",
      "Model Family:                Binomial   Df Model:                            2\n",
      "Link Function:                  Logit   Scale:                          1.0000\n",
      "Method:                          IRLS   Log-Likelihood:                -168.07\n",
      "Date:                Thu, 23 Feb 2023   Deviance:                       336.14\n",
      "Time:                        20:01:39   Pearson chi2:                     395.\n",
      "No. Iterations:                     5   Pseudo R-squ. (CS):             0.3710\n",
      "Covariance Type:            nonrobust                                         \n",
      "==============================================================================\n",
      "                 coef    std err          z      P>|z|      [0.025      0.975]\n",
      "------------------------------------------------------------------------------\n",
      "Intercept     -8.1154      0.814     -9.973      0.000      -9.710      -6.520\n",
      "Gender         0.0947      0.274      0.346      0.729      -0.441       0.631\n",
      "Age            0.1895      0.019      9.842      0.000       0.152       0.227\n",
      "==============================================================================\n"
     ]
    }
   ],
   "source": [
    "model = smf.glm(formula = formula, data = logdata, family = sm.families.Binomial())\n",
    "model_result = model.fit()\n",
    "print(model_result.summary())"
   ]
  },
  {
   "cell_type": "code",
   "execution_count": 33,
   "id": "eacc1ece",
   "metadata": {},
   "outputs": [],
   "source": [
    "formula = 'Purchased ~ EstimatedSalary'"
   ]
  },
  {
   "cell_type": "code",
   "execution_count": 34,
   "id": "627c3be6",
   "metadata": {},
   "outputs": [
    {
     "name": "stdout",
     "output_type": "stream",
     "text": [
      "                 Generalized Linear Model Regression Results                  \n",
      "==============================================================================\n",
      "Dep. Variable:              Purchased   No. Observations:                  400\n",
      "Model:                            GLM   Df Residuals:                      398\n",
      "Model Family:                Binomial   Df Model:                            1\n",
      "Link Function:                  Logit   Scale:                          1.0000\n",
      "Method:                          IRLS   Log-Likelihood:                -233.86\n",
      "Date:                Thu, 23 Feb 2023   Deviance:                       467.73\n",
      "Time:                        20:01:40   Pearson chi2:                     426.\n",
      "No. Iterations:                     4   Pseudo R-squ. (CS):             0.1259\n",
      "Covariance Type:            nonrobust                                         \n",
      "===================================================================================\n",
      "                      coef    std err          z      P>|z|      [0.025      0.975]\n",
      "-----------------------------------------------------------------------------------\n",
      "Intercept          -2.3227      0.286     -8.134      0.000      -2.882      -1.763\n",
      "EstimatedSalary  2.387e-05   3.52e-06      6.790      0.000     1.7e-05    3.08e-05\n",
      "===================================================================================\n"
     ]
    }
   ],
   "source": [
    "model = smf.glm(formula = formula, data = logdata, family = sm.families.Binomial())\n",
    "model_result = model.fit()\n",
    "print(model_result.summary())"
   ]
  },
  {
   "cell_type": "code",
   "execution_count": 35,
   "id": "a0358d0f",
   "metadata": {},
   "outputs": [],
   "source": [
    "formula = 'Purchased ~ Age'"
   ]
  },
  {
   "cell_type": "code",
   "execution_count": 36,
   "id": "2dd46216",
   "metadata": {},
   "outputs": [
    {
     "name": "stdout",
     "output_type": "stream",
     "text": [
      "                 Generalized Linear Model Regression Results                  \n",
      "==============================================================================\n",
      "Dep. Variable:              Purchased   No. Observations:                  400\n",
      "Model:                            GLM   Df Residuals:                      398\n",
      "Model Family:                Binomial   Df Model:                            1\n",
      "Link Function:                  Logit   Scale:                          1.0000\n",
      "Method:                          IRLS   Log-Likelihood:                -168.13\n",
      "Date:                Thu, 23 Feb 2023   Deviance:                       336.26\n",
      "Time:                        20:01:41   Pearson chi2:                     395.\n",
      "No. Iterations:                     5   Pseudo R-squ. (CS):             0.3708\n",
      "Covariance Type:            nonrobust                                         \n",
      "==============================================================================\n",
      "                 coef    std err          z      P>|z|      [0.025      0.975]\n",
      "------------------------------------------------------------------------------\n",
      "Intercept     -8.0441      0.784    -10.258      0.000      -9.581      -6.507\n",
      "Age            0.1889      0.019      9.866      0.000       0.151       0.226\n",
      "==============================================================================\n"
     ]
    }
   ],
   "source": [
    "model = smf.glm(formula = formula, data = logdata, family = sm.families.Binomial())\n",
    "model_result = model.fit()\n",
    "print(model_result.summary())"
   ]
  },
  {
   "cell_type": "code",
   "execution_count": 37,
   "id": "47e1f8db",
   "metadata": {},
   "outputs": [],
   "source": [
    "formula = 'Purchased ~ Gender'"
   ]
  },
  {
   "cell_type": "code",
   "execution_count": 38,
   "id": "0a7a3b60",
   "metadata": {},
   "outputs": [
    {
     "name": "stdout",
     "output_type": "stream",
     "text": [
      "                 Generalized Linear Model Regression Results                  \n",
      "==============================================================================\n",
      "Dep. Variable:              Purchased   No. Observations:                  400\n",
      "Model:                            GLM   Df Residuals:                      398\n",
      "Model Family:                Binomial   Df Model:                            1\n",
      "Link Function:                  Logit   Scale:                          1.0000\n",
      "Method:                          IRLS   Log-Likelihood:                -260.43\n",
      "Date:                Thu, 23 Feb 2023   Deviance:                       520.85\n",
      "Time:                        20:01:42   Pearson chi2:                     400.\n",
      "No. Iterations:                     4   Pseudo R-squ. (CS):           0.001803\n",
      "Covariance Type:            nonrobust                                         \n",
      "==============================================================================\n",
      "                 coef    std err          z      P>|z|      [0.025      0.975]\n",
      "------------------------------------------------------------------------------\n",
      "Intercept     -0.5004      0.144     -3.464      0.001      -0.783      -0.217\n",
      "Gender        -0.1775      0.209     -0.849      0.396      -0.587       0.232\n",
      "==============================================================================\n"
     ]
    }
   ],
   "source": [
    "model = smf.glm(formula = formula, data = logdata, family = sm.families.Binomial())\n",
    "model_result = model.fit()\n",
    "print(model_result.summary())"
   ]
  },
  {
   "cell_type": "code",
   "execution_count": 39,
   "id": "e8961936",
   "metadata": {},
   "outputs": [],
   "source": [
    "# Comparing the Pseudo R-squared of each model, we see that the full model has the highest Pseudo R-squared of 0.459"
   ]
  },
  {
   "cell_type": "markdown",
   "id": "5c8b8cd6",
   "metadata": {},
   "source": [
    "# Question 3"
   ]
  },
  {
   "cell_type": "code",
   "execution_count": 40,
   "id": "c40e04c3",
   "metadata": {
    "scrolled": true
   },
   "outputs": [
    {
     "name": "stdout",
     "output_type": "stream",
     "text": [
      "                 Generalized Linear Model Regression Results                  \n",
      "==============================================================================\n",
      "Dep. Variable:              Purchased   No. Observations:                  400\n",
      "Model:                            GLM   Df Residuals:                      396\n",
      "Model Family:                Binomial   Df Model:                            3\n",
      "Link Function:                  Logit   Scale:                          1.0000\n",
      "Method:                          IRLS   Log-Likelihood:                -137.92\n",
      "Date:                Thu, 23 Feb 2023   Deviance:                       275.84\n",
      "Time:                        20:02:02   Pearson chi2:                     459.\n",
      "No. Iterations:                     6   Pseudo R-squ. (CS):             0.4590\n",
      "Covariance Type:            nonrobust                                         \n",
      "===================================================================================\n",
      "                      coef    std err          z      P>|z|      [0.025      0.975]\n",
      "-----------------------------------------------------------------------------------\n",
      "Intercept         -12.7836      1.359     -9.405      0.000     -15.448     -10.120\n",
      "Gender              0.3338      0.305      1.094      0.274      -0.264       0.932\n",
      "Age                 0.2370      0.026      8.984      0.000       0.185       0.289\n",
      "EstimatedSalary  3.644e-05   5.47e-06      6.659      0.000    2.57e-05    4.72e-05\n",
      "===================================================================================\n"
     ]
    }
   ],
   "source": [
    "print(model_full_result.summary())"
   ]
  },
  {
   "cell_type": "code",
   "execution_count": 41,
   "id": "123308dd",
   "metadata": {},
   "outputs": [
    {
     "data": {
      "text/plain": [
       "Intercept          0.000003\n",
       "Gender             1.396324\n",
       "Age                1.267402\n",
       "EstimatedSalary    1.000036\n",
       "dtype: float64"
      ]
     },
     "execution_count": 41,
     "metadata": {},
     "output_type": "execute_result"
    }
   ],
   "source": [
    "np.exp(model_full_result.params)"
   ]
  },
  {
   "cell_type": "code",
   "execution_count": null,
   "id": "ea5d16da",
   "metadata": {
    "scrolled": true
   },
   "outputs": [],
   "source": [
    "\"\"\"\n",
    "Interpretation of coefficients:\n",
    "\n",
    "Holding everything constant except age, if age increases by 1 unit then the odds of purchasing will increase by 26%\n",
    "Holding everything constant except gender, if gender increases by 1 unit then the odds of purchasing will increase by 39% but since gender is insignificant, this interpretation is also considered void\n",
    "Holding everything constant except estimated salary, if estimated salary increases by 1 unit then the odds of purchasing will increase by almost negligible %, meaning it will have proportional increase wrt change in estimated salary\n",
    "\n",
    "\"\"\""
   ]
  },
  {
   "cell_type": "markdown",
   "id": "66f8256a",
   "metadata": {},
   "source": [
    "# Question 4"
   ]
  },
  {
   "cell_type": "code",
   "execution_count": 43,
   "id": "c7fc2f56",
   "metadata": {},
   "outputs": [
    {
     "data": {
      "text/plain": [
       "257"
      ]
     },
     "execution_count": 43,
     "metadata": {},
     "output_type": "execute_result"
    }
   ],
   "source": [
    "sum(logdata['Purchased'] == 0)"
   ]
  },
  {
   "cell_type": "code",
   "execution_count": null,
   "id": "35f1cd9f",
   "metadata": {},
   "outputs": [],
   "source": [
    "\"\"\"\n",
    "Accuracy isn't the best metric in this case since there is class imbalance. The split in classes is 257 and 143 (approx 65%-35%)\n",
    "Because of this, if the model predicts all instances to be negative, it will still have an accuracy of 65%, which is not a good representation of the model's ability to generalize.\n",
    "Alternatives such as precision, recall or F-1 score should be considered.\n",
    "\"\"\""
   ]
  },
  {
   "cell_type": "markdown",
   "id": "9ab8b0b0",
   "metadata": {},
   "source": [
    "# Question 5"
   ]
  },
  {
   "cell_type": "code",
   "execution_count": 44,
   "id": "202c40c3",
   "metadata": {},
   "outputs": [],
   "source": [
    "age = X['Age']"
   ]
  },
  {
   "cell_type": "code",
   "execution_count": 45,
   "id": "00fd4a51",
   "metadata": {},
   "outputs": [
    {
     "data": {
      "text/plain": [
       "37.655"
      ]
     },
     "execution_count": 45,
     "metadata": {},
     "output_type": "execute_result"
    }
   ],
   "source": [
    "age.mean()"
   ]
  },
  {
   "cell_type": "code",
   "execution_count": 46,
   "id": "23471bfd",
   "metadata": {},
   "outputs": [
    {
     "data": {
      "text/plain": [
       "37.0"
      ]
     },
     "execution_count": 46,
     "metadata": {},
     "output_type": "execute_result"
    }
   ],
   "source": [
    "age.median()"
   ]
  },
  {
   "cell_type": "code",
   "execution_count": 47,
   "id": "d7e40d3d",
   "metadata": {},
   "outputs": [],
   "source": [
    "age = [1 if a > 37 else 0 for a in age]"
   ]
  },
  {
   "cell_type": "code",
   "execution_count": 48,
   "id": "d599e03e",
   "metadata": {},
   "outputs": [
    {
     "data": {
      "image/png": "[encoded data removed]",
      "text/plain": [
       "<Figure size 600x600 with 1 Axes>"
      ]
     },
     "metadata": {},
     "output_type": "display_data"
    }
   ],
   "source": [
    "fig, ax = plt.subplots(figsize=(6, 6))\n",
    "fig = interaction_plot(\n",
    "    x=age,\n",
    "    trace=X['Gender'],\n",
    "    response=Y,\n",
    "    colors=[\"red\", \"blue\"],\n",
    "    markers=[\"D\", \"^\"],\n",
    "    ms=10,\n",
    "    ax=ax,\n",
    ")"
   ]
  },
  {
   "cell_type": "markdown",
   "id": "ed81328a",
   "metadata": {},
   "source": [
    "# Question 6"
   ]
  },
  {
   "cell_type": "code",
   "execution_count": null,
   "id": "c1ad5003",
   "metadata": {},
   "outputs": [],
   "source": [
    "\"\"\"\n",
    "i. The interaction term should be included (but additional tests are required to determine interaction significance) in this plot since the slopes are not equal and the lines will eventually intersect if extended, which suggests there is a possibility of interaction between them.\n",
    "ii. The interaction term should be included in this plot since the slopes are not equal and the lines even intersect, which suggests there is strong interaction between them.\n",
    "iii. The interaction term is not needed in this plot since the slopes are equal, which suggests there is no interaction as increase in average savings changes likelihood of a house being purchased by the same factor for both income levels.\n",
    "\"\"\""
   ]
  }
 ],
 "metadata": {
  "kernelspec": {
   "display_name": "Python 3 (ipykernel)",
   "language": "python",
   "name": "python3"
  },
  "language_info": {
   "codemirror_mode": {
    "name": "ipython",
    "version": 3
   },
   "file_extension": ".py",
   "mimetype": "text/x-python",
   "name": "python",
   "nbconvert_exporter": "python",
   "pygments_lexer": "ipython3",
   "version": "3.9.16"
  }
 },
 "nbformat": 4,
 "nbformat_minor": 5
}
